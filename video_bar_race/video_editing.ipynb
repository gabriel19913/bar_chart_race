{
 "cells": [
  {
   "cell_type": "code",
   "execution_count": 1,
   "metadata": {},
   "outputs": [],
   "source": [
    "from moviepy.audio.io.AudioFileClip import AudioFileClip\n",
    "from moviepy.audio.AudioClip import CompositeAudioClip\n",
    "from moviepy.editor import VideoFileClip, concatenate_videoclips, concatenate_audioclips"
   ]
  },
  {
   "cell_type": "code",
   "execution_count": 2,
   "metadata": {},
   "outputs": [],
   "source": [
    "freeze_duration = 10\n",
    "video_clip = VideoFileClip(\"/mnt/wsl/PHYSICALDRIVE1/bar_chart_race/video_test.mp4\")\n",
    "video_clip_duration = video_clip.duration\n",
    "last_frame = video_clip.subclip(video_clip_duration - 0.2, video_clip_duration)\n",
    "freeze_frame = last_frame.set_duration(freeze_duration)"
   ]
  },
  {
   "cell_type": "code",
   "execution_count": 4,
   "metadata": {},
   "outputs": [
    {
     "name": "stdout",
     "output_type": "stream",
     "text": [
      "Moviepy - Building video output_video.mp4.\n",
      "MoviePy - Writing audio in output_videoTEMP_MPY_wvf_snd.mp3\n"
     ]
    },
    {
     "name": "stderr",
     "output_type": "stream",
     "text": [
      "                                                                      \r"
     ]
    },
    {
     "name": "stdout",
     "output_type": "stream",
     "text": [
      "MoviePy - Done.\n",
      "Moviepy - Writing video output_video.mp4\n",
      "\n"
     ]
    },
    {
     "name": "stderr",
     "output_type": "stream",
     "text": [
      "                                                               \r"
     ]
    },
    {
     "name": "stdout",
     "output_type": "stream",
     "text": [
      "Moviepy - Done !\n",
      "Moviepy - video ready output_video.mp4\n"
     ]
    }
   ],
   "source": [
    "audio_clip = CompositeAudioClip([AudioFileClip(f\"/mnt/wsl/PHYSICALDRIVE1/bar_chart_race/resources/AXIS1203_01_Be You_Full.mp3\")])\n",
    "audio_clip_duration = audio_clip.duration\n",
    "if audio_clip_duration < video_clip_duration + freeze_duration:\n",
    "    final_audio_clip = concatenate_audioclips([audio_clip, audio_clip])\n",
    "else:\n",
    "    final_audio_clip = audio_clip\n",
    "final_audio_clip = final_audio_clip.subclip(0, video_clip_duration + freeze_duration)\n",
    "final_audio_clip = final_audio_clip.audio_fadeout(5)\n",
    "\n",
    "video_clip.audio = final_audio_clip\n",
    "final_video_clip = concatenate_videoclips([video_clip, freeze_frame])\n",
    "final_video_clip.write_videofile(\"output_video.mp4\")"
   ]
  }
 ],
 "metadata": {
  "kernelspec": {
   "display_name": "bar_race",
   "language": "python",
   "name": "python3"
  },
  "language_info": {
   "codemirror_mode": {
    "name": "ipython",
    "version": 3
   },
   "file_extension": ".py",
   "mimetype": "text/x-python",
   "name": "python",
   "nbconvert_exporter": "python",
   "pygments_lexer": "ipython3",
   "version": "3.7.16"
  }
 },
 "nbformat": 4,
 "nbformat_minor": 2
}
